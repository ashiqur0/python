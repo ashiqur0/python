{
 "cells": [
  {
   "cell_type": "code",
   "execution_count": 2,
   "id": "e6f84749",
   "metadata": {},
   "outputs": [
    {
     "name": "stdout",
     "output_type": "stream",
     "text": [
      "Welcome  Ashiqur\n"
     ]
    }
   ],
   "source": [
    "name = input('Enter your name: ')\n",
    "print('Welcome ', name)"
   ]
  },
  {
   "cell_type": "code",
   "execution_count": 4,
   "id": "aaafb5ee",
   "metadata": {},
   "outputs": [
    {
     "name": "stdout",
     "output_type": "stream",
     "text": [
      "You are  27  years old\n",
      "<class 'str'>\n"
     ]
    }
   ],
   "source": [
    "age = input('Enter your age')\n",
    "print('You are ', age, ' years old')\n",
    "\n",
    "print(type(age))"
   ]
  },
  {
   "cell_type": "code",
   "execution_count": 5,
   "id": "0d63de30",
   "metadata": {},
   "outputs": [
    {
     "name": "stdout",
     "output_type": "stream",
     "text": [
      "<class 'int'>\n"
     ]
    }
   ],
   "source": [
    "number = input('Enter a number')\n",
    "number = int(number)\n",
    "\n",
    "print(type(number))"
   ]
  },
  {
   "cell_type": "code",
   "execution_count": null,
   "id": "01853112",
   "metadata": {},
   "outputs": [
    {
     "name": "stdout",
     "output_type": "stream",
     "text": [
      "You are  5.7 ft tall\n",
      "<class 'float'>\n"
     ]
    }
   ],
   "source": [
    "height = float(input('Enter your height'))\n",
    "\n",
    "print(f'You are  {height} ft tall') # string formatting\n",
    "print(type(height))"
   ]
  }
 ],
 "metadata": {
  "kernelspec": {
   "display_name": "Python 3",
   "language": "python",
   "name": "python3"
  },
  "language_info": {
   "codemirror_mode": {
    "name": "ipython",
    "version": 3
   },
   "file_extension": ".py",
   "mimetype": "text/x-python",
   "name": "python",
   "nbconvert_exporter": "python",
   "pygments_lexer": "ipython3",
   "version": "3.12.3"
  }
 },
 "nbformat": 4,
 "nbformat_minor": 5
}
