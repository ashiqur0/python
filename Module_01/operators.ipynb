{
 "cells": [
  {
   "cell_type": "code",
   "execution_count": null,
   "id": "65f03c51",
   "metadata": {},
   "outputs": [
    {
     "name": "stdout",
     "output_type": "stream",
     "text": [
      "13 7 30 3.3333333333333335\n"
     ]
    }
   ],
   "source": [
    "# Arithmetic Operator\n",
    "x = 10\n",
    "y = 3\n",
    "\n",
    "sum = x + y\n",
    "sub = x - y\n",
    "mul = x * y\n",
    "div = x / y\n",
    "\n",
    "print(sum, sub, mul, div)\n"
   ]
  },
  {
   "cell_type": "code",
   "execution_count": null,
   "id": "e748a2fc",
   "metadata": {},
   "outputs": [
    {
     "name": "stdout",
     "output_type": "stream",
     "text": [
      "True\n",
      "True\n",
      "False\n",
      "False\n",
      "False\n",
      "True\n"
     ]
    }
   ],
   "source": [
    "# Comparison Operator\n",
    "x = 10\n",
    "y = 3\n",
    "\n",
    "print(x > y)    # True\n",
    "print(x >= y)   # True\n",
    "print(x < y)    # False\n",
    "print(x <= y)   # False\n",
    "print(x == y)   # False\n",
    "print(x != y)   # True"
   ]
  },
  {
   "cell_type": "code",
   "execution_count": null,
   "id": "478e7706",
   "metadata": {},
   "outputs": [
    {
     "name": "stdout",
     "output_type": "stream",
     "text": [
      "True\n",
      "True\n"
     ]
    }
   ],
   "source": [
    "# Logical Operator\n",
    "x, y, z = 10, 5, 3\n",
    "print((x > y) and (x > z))  #True\n",
    "print((y > x) or (y > z))   #True"
   ]
  }
 ],
 "metadata": {
  "kernelspec": {
   "display_name": "Python 3",
   "language": "python",
   "name": "python3"
  },
  "language_info": {
   "codemirror_mode": {
    "name": "ipython",
    "version": 3
   },
   "file_extension": ".py",
   "mimetype": "text/x-python",
   "name": "python",
   "nbconvert_exporter": "python",
   "pygments_lexer": "ipython3",
   "version": "3.12.3"
  }
 },
 "nbformat": 4,
 "nbformat_minor": 5
}
