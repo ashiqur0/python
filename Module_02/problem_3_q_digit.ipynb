{
 "cells": [
  {
   "cell_type": "markdown",
   "id": "077c3dcd",
   "metadata": {},
   "source": [
    "Q Digits"
   ]
  },
  {
   "cell_type": "code",
   "execution_count": null,
   "id": "26e7d669",
   "metadata": {},
   "outputs": [
    {
     "name": "stdout",
     "output_type": "stream",
     "text": [
      "3 2 1 \n",
      "4 3 2 \n",
      "5 4 3 \n"
     ]
    }
   ],
   "source": [
    "# \n",
    "t = int(input())\n",
    "\n",
    "for i in range(t):\n",
    "    number = int(input())\n",
    "    \n",
    "    if number == 0:\n",
    "        print(0)\n",
    "        continue\n",
    "    \n",
    "    while number > 0:\n",
    "        print(number % 10, end=\" \")\n",
    "        number //= 10\n",
    "    print()"
   ]
  }
 ],
 "metadata": {
  "kernelspec": {
   "display_name": "Python 3",
   "language": "python",
   "name": "python3"
  },
  "language_info": {
   "codemirror_mode": {
    "name": "ipython",
    "version": 3
   },
   "file_extension": ".py",
   "mimetype": "text/x-python",
   "name": "python",
   "nbconvert_exporter": "python",
   "pygments_lexer": "ipython3",
   "version": "3.12.3"
  }
 },
 "nbformat": 4,
 "nbformat_minor": 5
}
