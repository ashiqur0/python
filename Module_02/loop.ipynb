{
 "cells": [
  {
   "cell_type": "code",
   "execution_count": 1,
   "id": "cc1b4de4",
   "metadata": {},
   "outputs": [
    {
     "name": "stdout",
     "output_type": "stream",
     "text": [
      "0 hello\n",
      "1 hello\n",
      "2 hello\n",
      "3 hello\n",
      "4 hello\n"
     ]
    }
   ],
   "source": [
    "# For Loop\n",
    "for i in range(5):\n",
    "    print(i, 'hello')"
   ]
  },
  {
   "cell_type": "code",
   "execution_count": 2,
   "id": "c2f49a0c",
   "metadata": {},
   "outputs": [
    {
     "name": "stdout",
     "output_type": "stream",
     "text": [
      "outer 0\n",
      "\tinner 0\n",
      "\tinner 1\n",
      "outer 1\n",
      "\tinner 0\n",
      "\tinner 1\n",
      "outer 2\n",
      "\tinner 0\n",
      "\tinner 1\n"
     ]
    }
   ],
   "source": [
    "# Nested For Loop\n",
    "for i in range(3):\n",
    "    print('outer', i)\n",
    "    for j in range(2):\n",
    "        print('\\tinner', j)"
   ]
  }
 ],
 "metadata": {
  "kernelspec": {
   "display_name": "Python 3",
   "language": "python",
   "name": "python3"
  },
  "language_info": {
   "codemirror_mode": {
    "name": "ipython",
    "version": 3
   },
   "file_extension": ".py",
   "mimetype": "text/x-python",
   "name": "python",
   "nbconvert_exporter": "python",
   "pygments_lexer": "ipython3",
   "version": "3.12.3"
  }
 },
 "nbformat": 4,
 "nbformat_minor": 5
}
