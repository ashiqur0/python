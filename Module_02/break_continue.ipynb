{
 "cells": [
  {
   "cell_type": "code",
   "execution_count": null,
   "id": "129c2ccb",
   "metadata": {},
   "outputs": [
    {
     "name": "stdout",
     "output_type": "stream",
     "text": [
      "Sum: 4\n"
     ]
    }
   ],
   "source": [
    "# Break and Continue Statement\n",
    "\n",
    "sum = 0\n",
    "for i in range(20):\n",
    "    if i % 2 == 0:\n",
    "        continue\n",
    "    \n",
    "    if i == 5:\n",
    "        break\n",
    "    \n",
    "    sum += i\n",
    "\n",
    "print('Sum:', sum) # Sum: 4"
   ]
  }
 ],
 "metadata": {
  "kernelspec": {
   "display_name": "Python 3",
   "language": "python",
   "name": "python3"
  },
  "language_info": {
   "codemirror_mode": {
    "name": "ipython",
    "version": 3
   },
   "file_extension": ".py",
   "mimetype": "text/x-python",
   "name": "python",
   "nbconvert_exporter": "python",
   "pygments_lexer": "ipython3",
   "version": "3.12.3"
  }
 },
 "nbformat": 4,
 "nbformat_minor": 5
}
