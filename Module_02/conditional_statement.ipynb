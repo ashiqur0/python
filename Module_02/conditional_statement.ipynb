{
 "cells": [
  {
   "cell_type": "code",
   "execution_count": 5,
   "id": "9c9ddba6",
   "metadata": {},
   "outputs": [
    {
     "name": "stdout",
     "output_type": "stream",
     "text": [
      "I will eat Burger\n"
     ]
    }
   ],
   "source": [
    "# Conditional Statement\n",
    "money = 100\n",
    "if money >= 150:\n",
    "    print('I will eat pizza')\n",
    "elif money >= 100:\n",
    "    print('I will eat Burger')\n",
    "else:\n",
    "    print('I wil eat ChatPoti')"
   ]
  },
  {
   "cell_type": "code",
   "execution_count": null,
   "id": "1b7c17d4",
   "metadata": {},
   "outputs": [
    {
     "name": "stdout",
     "output_type": "stream",
     "text": [
      "I will Go CoxBazar\n",
      "I will not go to Sent Martin\n"
     ]
    }
   ],
   "source": [
    "# Nested if\n",
    "money = 10000\n",
    "if money >= 10000:\n",
    "    print('I will Go CoxBazar')    \n",
    "    if money >= 12000:\n",
    "        print('I will Go Sent Martin too')\n",
    "    else:\n",
    "        print('I will not go to Sent Martin')\n",
    "else: \n",
    "    print('I will not go anywhere')\n",
    "    "
   ]
  },
  {
   "cell_type": "code",
   "execution_count": 6,
   "id": "22c1aa50",
   "metadata": {},
   "outputs": [
    {
     "name": "stdout",
     "output_type": "stream",
     "text": [
      "I will study at University\n"
     ]
    }
   ],
   "source": [
    "# Multiple Condition\n",
    "haveTime = True\n",
    "iAmAtHome = False\n",
    "if iAmAtHome and haveTime:\n",
    "    print('I will Practice problem solving')\n",
    "else:\n",
    "    print('I will study at University')"
   ]
  }
 ],
 "metadata": {
  "kernelspec": {
   "display_name": "Python 3",
   "language": "python",
   "name": "python3"
  },
  "language_info": {
   "codemirror_mode": {
    "name": "ipython",
    "version": 3
   },
   "file_extension": ".py",
   "mimetype": "text/x-python",
   "name": "python",
   "nbconvert_exporter": "python",
   "pygments_lexer": "ipython3",
   "version": "3.12.3"
  }
 },
 "nbformat": 4,
 "nbformat_minor": 5
}
