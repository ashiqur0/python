{
 "cells": [
  {
   "cell_type": "code",
   "execution_count": null,
   "id": "c42113d7",
   "metadata": {},
   "outputs": [
    {
     "name": "stdout",
     "output_type": "stream",
     "text": [
      "min:  1\n",
      "max:  22\n"
     ]
    }
   ],
   "source": [
    "# Take 3 numbers from user and find the min and max number and print them\n",
    "\n",
    "numbers = input()\n",
    "numbers = numbers.split()\n",
    "x = int(numbers[0])\n",
    "y = int(numbers[1])\n",
    "z = int(numbers[2])\n",
    "\n",
    "# Finding minimum\n",
    "min = x\n",
    "if min > y:\n",
    "    min = y\n",
    "if min > z:\n",
    "    min = z\n",
    "\n",
    "# Finding maximum\n",
    "max = x\n",
    "if max < y:\n",
    "    max = y\n",
    "if max < z:\n",
    "    max = z\n",
    "    \n",
    "print(\"min: \", min)\n",
    "print(\"max: \", max)"
   ]
  }
 ],
 "metadata": {
  "kernelspec": {
   "display_name": "Python 3",
   "language": "python",
   "name": "python3"
  },
  "language_info": {
   "codemirror_mode": {
    "name": "ipython",
    "version": 3
   },
   "file_extension": ".py",
   "mimetype": "text/x-python",
   "name": "python",
   "nbconvert_exporter": "python",
   "pygments_lexer": "ipython3",
   "version": "3.12.3"
  }
 },
 "nbformat": 4,
 "nbformat_minor": 5
}
