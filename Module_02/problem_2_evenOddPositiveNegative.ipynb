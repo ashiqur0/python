{
 "cells": [
  {
   "cell_type": "code",
   "execution_count": 2,
   "id": "1addd0f8",
   "metadata": {},
   "outputs": [
    {
     "name": "stdout",
     "output_type": "stream",
     "text": [
      "Even: 3\n",
      "Odd: 2\n",
      "Positive: 1\n",
      "Negative: 3\n"
     ]
    }
   ],
   "source": [
    "# Even Odd Positive Negative\n",
    "n = int(input())\n",
    "\n",
    "numbers = input()\n",
    "numbers = numbers.split()\n",
    "\n",
    "even = 0\n",
    "odd = 0\n",
    "positive = 0\n",
    "negative = 0\n",
    "\n",
    "for i in range(n):\n",
    "    x = int(numbers[i])\n",
    "    \n",
    "    if x % 2 == 0:\n",
    "        even += 1\n",
    "    else:\n",
    "        odd += 1\n",
    "        \n",
    "    if x > 0:\n",
    "        positive += 1\n",
    "    elif x < 0:\n",
    "        negative += 1\n",
    "\n",
    "print('Even:', even)\n",
    "print('Odd:', odd)\n",
    "print('Positive:', positive)\n",
    "print('Negative:', negative)"
   ]
  }
 ],
 "metadata": {
  "kernelspec": {
   "display_name": "Python 3",
   "language": "python",
   "name": "python3"
  },
  "language_info": {
   "codemirror_mode": {
    "name": "ipython",
    "version": 3
   },
   "file_extension": ".py",
   "mimetype": "text/x-python",
   "name": "python",
   "nbconvert_exporter": "python",
   "pygments_lexer": "ipython3",
   "version": "3.12.3"
  }
 },
 "nbformat": 4,
 "nbformat_minor": 5
}
